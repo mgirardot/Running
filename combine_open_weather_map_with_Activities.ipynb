{
 "cells": [
  {
   "cell_type": "markdown",
   "metadata": {},
   "source": [
    "# Combine OpenWeatherMap data with the running activities\n",
    "\n",
    "I have collected all my running records from the Garmin connect platform into a csv file. One interesting complementary data to these information would be weather data. I would then be able to investigate the influence of the temperature, rain or wind on the average run pace.\n",
    "\n",
    "## Importing the data\n"
   ]
  },
  {
   "cell_type": "code",
   "execution_count": 9,
   "metadata": {
    "collapsed": false
   },
   "outputs": [
    {
     "data": {
      "text/html": [
       "<div>\n",
       "<table border=\"1\" class=\"dataframe\">\n",
       "  <thead>\n",
       "    <tr style=\"text-align: right;\">\n",
       "      <th></th>\n",
       "      <th>activite</th>\n",
       "      <th>Type</th>\n",
       "      <th>date</th>\n",
       "      <th>Temps</th>\n",
       "      <th>Distance</th>\n",
       "      <th>Gain_altitude</th>\n",
       "      <th>Perte_altitude</th>\n",
       "      <th>Vitesse_moy</th>\n",
       "      <th>Vitesse_max</th>\n",
       "      <th>Calories</th>\n",
       "      <th>jour</th>\n",
       "      <th>mois</th>\n",
       "      <th>annee</th>\n",
       "      <th>date2</th>\n",
       "      <th>heure</th>\n",
       "      <th>date2_heure</th>\n",
       "    </tr>\n",
       "  </thead>\n",
       "  <tbody>\n",
       "    <tr>\n",
       "      <th>0</th>\n",
       "      <td>peggy</td>\n",
       "      <td>Course à pied</td>\n",
       "      <td>lun., 30 juin 2014 7:03</td>\n",
       "      <td>20:46</td>\n",
       "      <td>2,94</td>\n",
       "      <td>23</td>\n",
       "      <td>19</td>\n",
       "      <td>07:04</td>\n",
       "      <td>05:42</td>\n",
       "      <td>241</td>\n",
       "      <td>30</td>\n",
       "      <td>juin</td>\n",
       "      <td>2014</td>\n",
       "      <td>30/06/2014</td>\n",
       "      <td>07:03</td>\n",
       "      <td>30/06/2014 07:03</td>\n",
       "    </tr>\n",
       "  </tbody>\n",
       "</table>\n",
       "</div>"
      ],
      "text/plain": [
       "   activite           Type                     date  Temps Distance  \\\n",
       "0     peggy  Course à pied  lun., 30 juin 2014 7:03  20:46     2,94   \n",
       "\n",
       "  Gain_altitude Perte_altitude Vitesse_moy Vitesse_max  Calories  jour  mois  \\\n",
       "0            23             19       07:04       05:42       241    30  juin   \n",
       "\n",
       "   annee       date2  heure       date2_heure  \n",
       "0   2014  30/06/2014  07:03  30/06/2014 07:03  "
      ]
     },
     "execution_count": 9,
     "metadata": {},
     "output_type": "execute_result"
    }
   ],
   "source": [
    "import pandas as pd\n",
    "data = pd.read_csv(\"C:\\Users\\mgirardot\\Desktop\\garmin_data\\Activities_format_date.csv\", sep='\\t')\n",
    "data.head(n=1)"
   ]
  },
  {
   "cell_type": "markdown",
   "metadata": {},
   "source": [
    "## Get the OpenWeatherMap API key\n",
    "\n",
    "I signup on the [OpenWeatherMap](http://openweathermap.org/appid) web site to recieve a free API key."
   ]
  },
  {
   "cell_type": "code",
   "execution_count": 11,
   "metadata": {
    "collapsed": true
   },
   "outputs": [],
   "source": [
    "f=open(\"C:/Users/mgirardot/Desktop/garmin_data/OpenWeatherMap_API_key.txt\", 'r')\n",
    "Apikey=f.read()"
   ]
  },
  {
   "cell_type": "markdown",
   "metadata": {},
   "source": [
    "I found a python client API developed by [Claudio Sparpaglione](https://github.com/csparpa/pyowm)."
   ]
  },
  {
   "cell_type": "raw",
   "metadata": {},
   "source": [
    "pip install pyowm"
   ]
  },
  {
   "cell_type": "code",
   "execution_count": 12,
   "metadata": {
    "collapsed": true
   },
   "outputs": [],
   "source": [
    "import pyowm\n",
    "owm = pyowm.OWM(Apikey)"
   ]
  },
  {
   "cell_type": "markdown",
   "metadata": {},
   "source": [
    "Retrieving weather data at a particular hour of a given day is as easy as calling the `weather_history_at_place()`function."
   ]
  },
  {
   "cell_type": "raw",
   "metadata": {},
   "source": [
    "# Create an empty data frame to store the data\n",
    "weather_data = pd.DataFrame(columns=['temp','humidity','wind_speed', 'wind_degree','clouds_coverage', 'rain', 'pressure'])\n",
    "\n",
    "#We need to paste the date and time in a specific format, thus:\n",
    "import datetime as dt\n",
    "\n",
    "# Then for each row of data, get the date and time from 'data2_heure' and call the 'weather_history_at_place()'\n",
    "for i,time_of_run in enumerate(data['date2_heure']):\n",
    "    d = dt.datetime.strptime(time_of_run,'%d/%m/%Y %H:%M')\n",
    "    observation = owm.weather_history_at_place(\"Montpellier,fr\",d, d + dt.timedelta(hours=1))\n",
    "    \n",
    "    #In case there is no record, fill the table with 'NA'\n",
    "    if not observation:\n",
    "        weather_data.loc[i,:] =('NA', 'NA','NA','NA','NA','NA','NA')\n",
    "    else:\n",
    "        w = observation[0]\n",
    "        weather_data.loc[i,:] =( w.get_temperature()['temp'], w.get_humidity(), w.get_wind()['speed'], \n",
    "                                w.get_wind()['deg'], w.get_clouds(), w.get_rain(), w.get_pressure()['press'])\n",
    "\n",
    "#The rain column is not filled because there is no value if there is no rain on that day\n",
    "rain_vol = pd.DataFrame(columns=['rain'])\n",
    "\n",
    "for i,time_of_run in enumerate(data['date2_heure']):\n",
    "    d = dt.datetime.strptime(time_of_run,'%d/%m/%Y %H:%M')\n",
    "    observation = owm.weather_history_at_place(\"Montpellier,fr\",d, d + dt.timedelta(hours=1))\n",
    "\n",
    "    if not observation:\n",
    "        rain_vol.loc[i]='NA'\n",
    "    elif not observation[0].get_rain(): #Here we need to add this special condition in case ther is no rain\n",
    "        rain_vol.loc[i]='NA'\n",
    "    else:\n",
    "        rain_vol.loc[i]=observation[0].get_rain()['3h']\n",
    "\n",
    "#Then the rain column in weather_data is replaced by the new rain column\n",
    "weather_data['rain']=rain_vol['rain']\n",
    "\n",
    "# finally the two data frame are merged and saved\n",
    "df = pd.concat([data, weather_data], axis=1)\n",
    "df.to_csv(\"C:\\Users\\mgirardot\\Desktop\\garmin_data\\Activities_format_date_weather.csv\", sep='\\t')"
   ]
  },
  {
   "cell_type": "markdown",
   "metadata": {},
   "source": [
    "Curiously, I was able to retrieve historical weather data on the 17th of september 2015, but not anymore on the 21st of september. According to the price plan from [OpenWeatherMap](http://openweathermap.org/price_detailes), historical data may not be acessible with the free API.\n",
    "\n",
    "Anyhow, here is the file that I saved:"
   ]
  },
  {
   "cell_type": "code",
   "execution_count": 15,
   "metadata": {
    "collapsed": false
   },
   "outputs": [
    {
     "data": {
      "text/html": [
       "<div>\n",
       "<table border=\"1\" class=\"dataframe\">\n",
       "  <thead>\n",
       "    <tr style=\"text-align: right;\">\n",
       "      <th></th>\n",
       "      <th>Unnamed: 0</th>\n",
       "      <th>activite</th>\n",
       "      <th>Type</th>\n",
       "      <th>date</th>\n",
       "      <th>Temps</th>\n",
       "      <th>Distance</th>\n",
       "      <th>Gain_altitude</th>\n",
       "      <th>Perte_altitude</th>\n",
       "      <th>Vitesse_moy</th>\n",
       "      <th>Vitesse_max</th>\n",
       "      <th>...</th>\n",
       "      <th>date2</th>\n",
       "      <th>heure</th>\n",
       "      <th>date2_heure</th>\n",
       "      <th>temp</th>\n",
       "      <th>humidity</th>\n",
       "      <th>wind_speed</th>\n",
       "      <th>wind_degree</th>\n",
       "      <th>clouds_coverage</th>\n",
       "      <th>rain</th>\n",
       "      <th>pressure</th>\n",
       "    </tr>\n",
       "  </thead>\n",
       "  <tbody>\n",
       "    <tr>\n",
       "      <th>0</th>\n",
       "      <td>0</td>\n",
       "      <td>peggy</td>\n",
       "      <td>Course à pied</td>\n",
       "      <td>lun., 30 juin 2014 7:03</td>\n",
       "      <td>20:46</td>\n",
       "      <td>2,94</td>\n",
       "      <td>23</td>\n",
       "      <td>19</td>\n",
       "      <td>07:04</td>\n",
       "      <td>05:42</td>\n",
       "      <td>...</td>\n",
       "      <td>30/06/2014</td>\n",
       "      <td>07:03</td>\n",
       "      <td>30/06/2014 07:03</td>\n",
       "      <td>288.231</td>\n",
       "      <td>56</td>\n",
       "      <td>3.37</td>\n",
       "      <td>323.001</td>\n",
       "      <td>32</td>\n",
       "      <td>NaN</td>\n",
       "      <td>989.63</td>\n",
       "    </tr>\n",
       "    <tr>\n",
       "      <th>1</th>\n",
       "      <td>1</td>\n",
       "      <td>michael</td>\n",
       "      <td>Course à pied</td>\n",
       "      <td>lun., 30 juin 2014 5:28</td>\n",
       "      <td>47:08:00</td>\n",
       "      <td>6,88</td>\n",
       "      <td>47</td>\n",
       "      <td>48</td>\n",
       "      <td>06:51</td>\n",
       "      <td>05:48</td>\n",
       "      <td>...</td>\n",
       "      <td>30/06/2014</td>\n",
       "      <td>05:28</td>\n",
       "      <td>30/06/2014 05:28</td>\n",
       "      <td>288.231</td>\n",
       "      <td>56</td>\n",
       "      <td>3.37</td>\n",
       "      <td>323.001</td>\n",
       "      <td>32</td>\n",
       "      <td>NaN</td>\n",
       "      <td>989.63</td>\n",
       "    </tr>\n",
       "  </tbody>\n",
       "</table>\n",
       "<p>2 rows × 24 columns</p>\n",
       "</div>"
      ],
      "text/plain": [
       "   Unnamed: 0  activite           Type                     date     Temps  \\\n",
       "0           0     peggy  Course à pied  lun., 30 juin 2014 7:03     20:46   \n",
       "1           1   michael  Course à pied  lun., 30 juin 2014 5:28  47:08:00   \n",
       "\n",
       "  Distance Gain_altitude Perte_altitude Vitesse_moy Vitesse_max    ...     \\\n",
       "0     2,94            23             19       07:04       05:42    ...      \n",
       "1     6,88            47             48       06:51       05:48    ...      \n",
       "\n",
       "        date2  heure       date2_heure     temp humidity wind_speed  \\\n",
       "0  30/06/2014  07:03  30/06/2014 07:03  288.231       56       3.37   \n",
       "1  30/06/2014  05:28  30/06/2014 05:28  288.231       56       3.37   \n",
       "\n",
       "  wind_degree  clouds_coverage  rain  pressure  \n",
       "0     323.001               32   NaN    989.63  \n",
       "1     323.001               32   NaN    989.63  \n",
       "\n",
       "[2 rows x 24 columns]"
      ]
     },
     "execution_count": 15,
     "metadata": {},
     "output_type": "execute_result"
    }
   ],
   "source": [
    "df = pd.read_csv(\"C:/Users/mgirardot/Desktop/garmin_data/Activities_format_date_weather.csv\", sep=\"\\t\")\n",
    "df.head(n=2)"
   ]
  },
  {
   "cell_type": "markdown",
   "metadata": {},
   "source": [
    "Temperatures are in Kelvins and cloud coverage is the percentage of filled sky with clouds."
   ]
  },
  {
   "cell_type": "code",
   "execution_count": null,
   "metadata": {
    "collapsed": true
   },
   "outputs": [],
   "source": []
  }
 ],
 "metadata": {
  "kernelspec": {
   "display_name": "Python 2",
   "language": "python",
   "name": "python2"
  },
  "language_info": {
   "codemirror_mode": {
    "name": "ipython",
    "version": 2
   },
   "file_extension": ".py",
   "mimetype": "text/x-python",
   "name": "python",
   "nbconvert_exporter": "python",
   "pygments_lexer": "ipython2",
   "version": "2.7.8"
  }
 },
 "nbformat": 4,
 "nbformat_minor": 0
}
